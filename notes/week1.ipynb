{
 "cells": [
  {
   "cell_type": "markdown",
   "metadata": {},
   "source": [
    "# Week 1\n",
    "## Learning Objectives\n",
    "* Discuss the major trends driving the rise of deep learning.\n",
    "    * Diffusion Models\n",
    "    * Transformer Architecture\n",
    "    * Big Data\n",
    "    * Explosion of Compute Capabilities\n",
    "* Explain how deep learning is applied to supervised learning\n",
    "    * Given a fixed behaviour we want to model we compute a loss factor of how well the model behaves relative to how well it should behave and then iterate the models parameters in such as way as to minimize the loss.\n",
    "* List the major categories of models (CNNs, RNNs, etc.), and when they should be applied\n",
    "    * Dense Neural Networks are all around good but extremely computationally expensive when many or large layers are involved.\n",
    "    * CNN = Convolutional Neural Network for when we want to model locality and local phenomena like in image recognition\n",
    "    * RNN = Recurrent Neural Network for when we have sequential data like in stock marks prices and theoretically unlimited amounts of input data like in text generation\n",
    "* Assess appropriate use cases for deep learning\n",
    "    * Search is always availiable but usually has a prohibatively high cost, although if possible it should be used as deep learning can be more expensive.\n",
    "    * NNs are (theoretically) able to create any type of function."
   ]
  },
  {
   "cell_type": "markdown",
   "metadata": {},
   "source": [
    "## What is a Neural Network?\n",
    "House Price prediction where we want to do linear regression for house price soley based on the size of the house we have the simplest possible neural network, namely which consists of a single neuron which applies the $\\operatorname{ReLU}$ (Rectified Linear Unit) function to a linear function $f(x) = ax + b$"
   ]
  },
  {
   "cell_type": "markdown",
   "metadata": {},
   "source": [
    "## Supervised Learning with Neural Networks\n",
    "Almost all economic value that Deep Learning has created so far was created by only one type of deep learning, namely Supervised Learning.\n",
    "\n",
    "| Input (x)         | Output (y)          | Application         | NN type|\n",
    "|-------------------|---------------------|---------------------|--|\n",
    "| Home features     | Price               | Real Estate         | Standard|\n",
    "| Ad, user info     | Click on ad? (0/1)  | Online Advertising  | Standard|\n",
    "| Image             | Object (1,...,1000) | Photo tagging       | CNN |\n",
    "| Audio             | Text transcript     | Speech recognition  | RNN |\n",
    "| English           | Chinese             | Machine translation | RNN |\n",
    "| Image, Radar info | Position of other cars | Autonomous driving | Custom / Hybrid|\n",
    "\n",
    "Supervised Learning can be split into two parts:\n",
    "1. Structured Data\n",
    "    * House size, number bedrooms, user age, did they click on an ad\n",
    "2. Unstructured Data\n",
    "    * Audio, Image, Text"
   ]
  },
  {
   "cell_type": "markdown",
   "metadata": {},
   "source": [
    "## Why is Deep Learning taking off?\n",
    "The amount of data that is availiable is growing enormously and Neural nets scale very well with larger amount of data (but of course also requireing enormous amounts of computation).\n",
    "\n",
    "Also algorithmic improvements have made NNs much better than they were in the past (for example using $\\operatorname{ReLU}$ instead of $\\operatorname{\\sigma}$ as activation function)."
   ]
  },
  {
   "cell_type": "markdown",
   "metadata": {},
   "source": [
    "## About this Course\n",
    "Specialization consists of 5 course.\n",
    "\n",
    "Structure of this course (per Week)\n",
    "1. Introduction\n",
    "2. Basics of Neural Network programming\n",
    "3. One hidden layer Neural Network\n",
    "4. Deep Neural Network"
   ]
  },
  {
   "cell_type": "markdown",
   "metadata": {},
   "source": []
  }
 ],
 "metadata": {
  "kernelspec": {
   "display_name": ".venv",
   "language": "python",
   "name": "python3"
  },
  "language_info": {
   "codemirror_mode": {
    "name": "ipython",
    "version": 3
   },
   "file_extension": ".py",
   "mimetype": "text/x-python",
   "name": "python",
   "nbconvert_exporter": "python",
   "pygments_lexer": "ipython3",
   "version": "3.12.2"
  }
 },
 "nbformat": 4,
 "nbformat_minor": 2
}
