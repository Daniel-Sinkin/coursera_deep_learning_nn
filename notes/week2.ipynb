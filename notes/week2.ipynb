{
 "cells": [
  {
   "cell_type": "markdown",
   "metadata": {},
   "source": [
    "# Week 2\n",
    "## Learning Objectives\n",
    "* Build a logistic regression model structured as a shallow neural network\n",
    "* Build the general architecture of a learning algorithm, including parameter initialization, cost function and gradient calculation, and optimization implemetation (gradient descent)\n",
    "* Implement computationally efficient and highly vectorized versions of models\n",
    "* Compute derivatives for logistic regression, using a backpropagation mindset\n",
    "* Use Numpy functions and Numpy matrix/vector operations\n",
    "* Work with iPython Notebooks\n",
    "* Implement vectorization across multiple training examples\n",
    "* Explain the concept of broadcasting"
   ]
  },
  {
   "cell_type": "markdown",
   "metadata": {},
   "source": [
    "## Binary Classification\n",
    "We will learn key concepts of Deep Learning with the context of a lgoistic regression model.\n",
    "\n",
    "Binary Classification: Assign a label of $1$ or $0$ to each object in the dataset.\n",
    "\n",
    "One way to get a feature vector out of an image is \"unrolling\" it, i.e. just linearly iterating throug the entire tensor. For example if our image is $64 \\times 64$ pixels with $3$ colors then this becomes a $64 \\times 64 \\times 3$ feature vector.\n",
    "\n",
    "Notation $(x, y)$, $x \\in \\mathbb{R}^{n_x}, y \\in \\{0, 1\\}$. If we have $m$ training examples then we write\n",
    "$$\n",
    "\\left\\{(\\underline{x}^{(1)}, y^{(1)}), (\\underline{x}^{(2)}, y^{(2)}), \\dots, ((\\underline{x}^{(m)}, y^{(m)})\\right\\}\n",
    "$$\n",
    "and we write them as a matrix $X \\in \\mathbb{R}^{n_x \\times m}$, i.e. the $x^{(i)}$ make up the columns of the matrix. In the literature we sometimes see this matrix defined as the transpose of this, but our variant makes computational implementations easier.\n",
    "We also write $Y = [y^{(1)}, y^{(2)}, \\dots, y^{(m)}] \\in \\mathbb{R}^{1 \\times m}$."
   ]
  },
  {
   "cell_type": "markdown",
   "metadata": {},
   "source": [
    "## Logistic Regression\n",
    "Given $x$, want $\\hat{y} = P(y = 1 | x)$ where $x \\in \\mathbb{R}^{n_x}$ and we have parameters $w \\in \\mathbb{R}^{n_x}, b \\in \\mathbb{R}$.\n",
    "\n",
    "To make sure that our results are positive and at have a value of at most $1$ (i.e. they represent probabilities), then we apply the sigmoid to them:\n",
    "$$\n",
    "\\hat{y} = \\sigma(w^\\top x + b).\n",
    "$$"
   ]
  },
  {
   "cell_type": "code",
   "execution_count": 15,
   "metadata": {},
   "outputs": [
    {
     "data": {
      "image/png": "[encoded data removed]",
      "text/plain": [
       "<Figure size 640x480 with 1 Axes>"
      ]
     },
     "metadata": {},
     "output_type": "display_data"
    }
   ],
   "source": [
    "import numpy as np\n",
    "import matplotlib.pyplot as plt\n",
    "\n",
    "x = np.linspace(-7, 7, 100)\n",
    "y = 1 / (1 + np.exp(-x))\n",
    "yp = np.exp(-x) / (1 + np.exp(-x))**2\n",
    "plt.plot(x, y, label = \"$\\\\sigma$\", zorder = 3)\n",
    "plt.plot(x, yp, label = \"$\\\\frac{d\\\\sigma}{dx}$\", zorder = 2)\n",
    "plt.title(\"Sigmoid Function\")\n",
    "plt.axvline(0, color='black', zorder = 1, linestyle = '--', alpha = 0.5)\n",
    "plt.legend()\n",
    "plt.show()"
   ]
  },
  {
   "cell_type": "markdown",
   "metadata": {},
   "source": [
    "## Logistic Regression Cost Function\n",
    "Loss (error) function:\n",
    "$$\n",
    "\\mathcal{L}(\\hat{y}, y) = \\frac{1}{2}(\\hat{y} - y)^2.\n",
    "$$\n",
    "This has theoretical and practical problems as the logistic problem might cause the optimization problem to no longer be convex and then gradient descent could give us local minima, which is not what we want to happen.\n",
    "\n",
    "Instead we use\n",
    "$$\n",
    "\\mathcal{L}(\\hat{y}, y) = -\\left( y \\log \\hat{y} + (1 - y)\\log(1 - \\hat{y})\\right)\n",
    "$$\n",
    "The motivation for this formulation is that if $y = 1$ then\n",
    "$$\n",
    "\\mathcal{L}(\\hat{y}, y) = \\mathcal{L}(\\hat{y}, 1) = -\\log \\hat{y}\n",
    "$$\n",
    "and to minimize this we want $\\hat{y}$ to be as close to $1$ as possible. Similiarly if $y = 0$\n",
    "$$\n",
    "\\mathcal{L}(\\hat{y}, y) = \\mathcal{L}(\\hat{y}, 0) = -\\log(1 - \\hat{y})\n",
    "$$\n",
    "then we want $\\hat{y}$ to be as small as possible (i.e. as close to $0$ as possible).\n",
    "\n",
    "The Cost function is defined by\n",
    "$$\n",
    "\\begin{aligned}\n",
    "J(w, b) &= \\frac{1}{m} \\sum_{i = 1}^m \\mathcal{L}\\left(\\hat{y}^{(i)}, y^{(i)}\\right) \\\\\n",
    "&= - \\frac{1}{m} \\sum_{i = 1}^m \\left( y \\log \\hat{y} + (1 - y)\\log(1 - \\hat{y})\\right)\n",
    "\\end{aligned}\n",
    "$$\n",
    "\n",
    "The goal for our optimization problem is to make this cost function $J$ to be as small as possible."
   ]
  },
  {
   "cell_type": "markdown",
   "metadata": {},
   "source": [
    "## Gradient Descent\n",
    "The key procedure of gradient descent is the update step\n",
    "$$\n",
    "\\begin{aligned}\n",
    "w &\\leftarrow w - \\alpha \\frac{\\partial J}{\\partial w}(w, b) \\\\\n",
    "b &\\leftarrow b - \\alpha \\frac{\\partial J}{\\partial b}(w, b)\n",
    "\\end{aligned}\n",
    "$$\n",
    "where $\\alpha > 0$ is called the learning rate."
   ]
  },
  {
   "cell_type": "code",
   "execution_count": 35,
   "metadata": {},
   "outputs": [],
   "source": [
    "a = np.array([[1, 1], [1, -1]])\n",
    "b = np.array([[2], [3]])"
   ]
  },
  {
   "cell_type": "code",
   "execution_count": 36,
   "metadata": {},
   "outputs": [
    {
     "data": {
      "text/plain": [
       "array([[3, 3],\n",
       "       [4, 2]])"
      ]
     },
     "execution_count": 36,
     "metadata": {},
     "output_type": "execute_result"
    }
   ],
   "source": [
    "a + b"
   ]
  },
  {
   "cell_type": "code",
   "execution_count": null,
   "metadata": {},
   "outputs": [],
   "source": []
  }
 ],
 "metadata": {
  "kernelspec": {
   "display_name": ".venv",
   "language": "python",
   "name": "python3"
  },
  "language_info": {
   "codemirror_mode": {
    "name": "ipython",
    "version": 3
   },
   "file_extension": ".py",
   "mimetype": "text/x-python",
   "name": "python",
   "nbconvert_exporter": "python",
   "pygments_lexer": "ipython3",
   "version": "3.12.2"
  }
 },
 "nbformat": 4,
 "nbformat_minor": 2
}
